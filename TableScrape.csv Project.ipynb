{
 "cells": [
  {
   "cell_type": "code",
   "execution_count": 71,
   "id": "e6a80bd0-0ff0-4182-8741-e5ef47fe7657",
   "metadata": {},
   "outputs": [],
   "source": [
    "from bs4 import BeautifulSoup\n",
    "import requests"
   ]
  },
  {
   "cell_type": "code",
   "execution_count": 72,
   "id": "adb14c62-7429-467a-9f20-828ec2d74465",
   "metadata": {},
   "outputs": [],
   "source": [
    "url = \"https://datatables.net/examples/styling/stripe.html\"\n",
    "page = requests.get(url)\n",
    "soup = BeautifulSoup(page.text, 'html')"
   ]
  },
  {
   "cell_type": "code",
   "execution_count": 73,
   "id": "90870895-54d2-4fc9-9e21-240a65f931e7",
   "metadata": {},
   "outputs": [],
   "source": [
    "find_table = soup.find('table')"
   ]
  },
  {
   "cell_type": "code",
   "execution_count": 74,
   "id": "755112b4-2944-4106-8466-f321495d46f5",
   "metadata": {},
   "outputs": [],
   "source": [
    "th = find_table.find_all('th')[0:6]"
   ]
  },
  {
   "cell_type": "code",
   "execution_count": 75,
   "id": "95b42cd9-b84b-480a-9493-332f3064e4d1",
   "metadata": {},
   "outputs": [
    {
     "data": {
      "text/plain": [
       "[<th>Name</th>,\n",
       " <th>Position</th>,\n",
       " <th>Office</th>,\n",
       " <th>Age</th>,\n",
       " <th>Start date</th>,\n",
       " <th>Salary</th>]"
      ]
     },
     "execution_count": 75,
     "metadata": {},
     "output_type": "execute_result"
    }
   ],
   "source": [
    "th"
   ]
  },
  {
   "cell_type": "code",
   "execution_count": 76,
   "id": "39ef581a-ba48-4220-aded-6e7c2a48fba5",
   "metadata": {},
   "outputs": [
    {
     "name": "stdout",
     "output_type": "stream",
     "text": [
      "['Name', 'Position', 'Office', 'Age', 'Start date', 'Salary']\n"
     ]
    }
   ],
   "source": [
    "table_head = [head.text for head in th]\n",
    "print(table_head)"
   ]
  },
  {
   "cell_type": "code",
   "execution_count": 77,
   "id": "d882d736-61ab-4100-9535-6f3faf5464a2",
   "metadata": {},
   "outputs": [],
   "source": [
    "import pandas as pd"
   ]
  },
  {
   "cell_type": "code",
   "execution_count": 78,
   "id": "5dc0c1c5-22d1-4a0c-b771-f79b75110547",
   "metadata": {},
   "outputs": [
    {
     "data": {
      "text/html": [
       "<div>\n",
       "<style scoped>\n",
       "    .dataframe tbody tr th:only-of-type {\n",
       "        vertical-align: middle;\n",
       "    }\n",
       "\n",
       "    .dataframe tbody tr th {\n",
       "        vertical-align: top;\n",
       "    }\n",
       "\n",
       "    .dataframe thead th {\n",
       "        text-align: right;\n",
       "    }\n",
       "</style>\n",
       "<table border=\"1\" class=\"dataframe\">\n",
       "  <thead>\n",
       "    <tr style=\"text-align: right;\">\n",
       "      <th></th>\n",
       "      <th>Name</th>\n",
       "      <th>Position</th>\n",
       "      <th>Office</th>\n",
       "      <th>Age</th>\n",
       "      <th>Start date</th>\n",
       "      <th>Salary</th>\n",
       "    </tr>\n",
       "  </thead>\n",
       "  <tbody>\n",
       "  </tbody>\n",
       "</table>\n",
       "</div>"
      ],
      "text/plain": [
       "Empty DataFrame\n",
       "Columns: [Name, Position, Office, Age, Start date, Salary]\n",
       "Index: []"
      ]
     },
     "execution_count": 78,
     "metadata": {},
     "output_type": "execute_result"
    }
   ],
   "source": [
    "df = pd.DataFrame(columns = table_head)\n",
    "df"
   ]
  },
  {
   "cell_type": "code",
   "execution_count": 79,
   "id": "ea0a3f27-739f-4c59-81d0-12441b18276d",
   "metadata": {},
   "outputs": [],
   "source": [
    "tr = find_table.find_all('tr')"
   ]
  },
  {
   "cell_type": "code",
   "execution_count": 80,
   "id": "d19ad40b-9adc-46a4-9746-bc0f0f81106e",
   "metadata": {},
   "outputs": [],
   "source": [
    "for data in tr[1:-1]:\n",
    "    td = data.find_all('td')\n",
    "    table_data = [row.text for row in td]\n",
    "\n",
    "    length = len(df)\n",
    "    df.loc[length] = table_data"
   ]
  },
  {
   "cell_type": "code",
   "execution_count": 81,
   "id": "c5c3dda4-2d8c-477e-b30b-ecb23a774ee5",
   "metadata": {
    "scrolled": true
   },
   "outputs": [
    {
     "name": "stdout",
     "output_type": "stream",
     "text": [
      "                   Name                       Position         Office Age  \\\n",
      "0           Tiger Nixon               System Architect      Edinburgh  61   \n",
      "1       Garrett Winters                     Accountant          Tokyo  63   \n",
      "2            Ashton Cox        Junior Technical Author  San Francisco  66   \n",
      "3          Cedric Kelly    Senior Javascript Developer      Edinburgh  22   \n",
      "4            Airi Satou                     Accountant          Tokyo  33   \n",
      "5    Brielle Williamson         Integration Specialist       New York  61   \n",
      "6       Herrod Chandler                Sales Assistant  San Francisco  59   \n",
      "7        Rhona Davidson         Integration Specialist          Tokyo  55   \n",
      "8         Colleen Hurst           Javascript Developer  San Francisco  39   \n",
      "9           Sonya Frost              Software Engineer      Edinburgh  23   \n",
      "10          Jena Gaines                 Office Manager         London  30   \n",
      "11          Quinn Flynn                   Support Lead      Edinburgh  22   \n",
      "12      Charde Marshall              Regional Director  San Francisco  36   \n",
      "13        Haley Kennedy      Senior Marketing Designer         London  43   \n",
      "14  Tatyana Fitzpatrick              Regional Director         London  19   \n",
      "15        Michael Silva             Marketing Designer         London  66   \n",
      "16            Paul Byrd  Chief Financial Officer (CFO)       New York  64   \n",
      "17        Gloria Little          Systems Administrator       New York  59   \n",
      "18        Bradley Greer              Software Engineer         London  41   \n",
      "19             Dai Rios                 Personnel Lead      Edinburgh  35   \n",
      "20     Jenette Caldwell               Development Lead       New York  30   \n",
      "21           Yuri Berry  Chief Marketing Officer (CMO)       New York  40   \n",
      "22         Caesar Vance              Pre-Sales Support       New York  21   \n",
      "23         Doris Wilder                Sales Assistant         Sydney  23   \n",
      "24       Angelica Ramos  Chief Executive Officer (CEO)         London  47   \n",
      "25          Gavin Joyce                      Developer      Edinburgh  42   \n",
      "26       Jennifer Chang              Regional Director      Singapore  28   \n",
      "27       Brenden Wagner              Software Engineer  San Francisco  28   \n",
      "28          Fiona Green  Chief Operating Officer (COO)  San Francisco  48   \n",
      "29            Shou Itou             Regional Marketing          Tokyo  20   \n",
      "30       Michelle House         Integration Specialist         Sydney  37   \n",
      "31           Suki Burks                      Developer         London  53   \n",
      "32    Prescott Bartlett               Technical Author         London  27   \n",
      "33         Gavin Cortez                    Team Leader  San Francisco  22   \n",
      "34       Martena Mccray             Post-Sales support      Edinburgh  46   \n",
      "35         Unity Butler             Marketing Designer  San Francisco  47   \n",
      "36      Howard Hatfield                 Office Manager  San Francisco  51   \n",
      "37         Hope Fuentes                      Secretary  San Francisco  41   \n",
      "38       Vivian Harrell           Financial Controller  San Francisco  62   \n",
      "39       Timothy Mooney                 Office Manager         London  37   \n",
      "40     Jackson Bradshaw                       Director       New York  65   \n",
      "41         Olivia Liang               Support Engineer      Singapore  64   \n",
      "42           Bruno Nash              Software Engineer         London  38   \n",
      "43      Sakura Yamamoto               Support Engineer          Tokyo  37   \n",
      "44          Thor Walton                      Developer       New York  61   \n",
      "45         Finn Camacho               Support Engineer  San Francisco  47   \n",
      "46        Serge Baldwin               Data Coordinator      Singapore  64   \n",
      "47        Zenaida Frank              Software Engineer       New York  63   \n",
      "48       Zorita Serrano              Software Engineer  San Francisco  56   \n",
      "49      Jennifer Acosta    Junior Javascript Developer      Edinburgh  43   \n",
      "50         Cara Stevens                Sales Assistant       New York  46   \n",
      "51      Hermione Butler              Regional Director         London  47   \n",
      "52           Lael Greer          Systems Administrator         London  21   \n",
      "53      Jonas Alexander                      Developer  San Francisco  30   \n",
      "54          Shad Decker              Regional Director      Edinburgh  51   \n",
      "55        Michael Bruce           Javascript Developer      Singapore  29   \n",
      "56         Donna Snider               Customer Support       New York  27   \n",
      "\n",
      "    Start date      Salary  \n",
      "0   2011-04-25    $320,800  \n",
      "1   2011-07-25    $170,750  \n",
      "2   2009-01-12     $86,000  \n",
      "3   2012-03-29    $433,060  \n",
      "4   2008-11-28    $162,700  \n",
      "5   2012-12-02    $372,000  \n",
      "6   2012-08-06    $137,500  \n",
      "7   2010-10-14    $327,900  \n",
      "8   2009-09-15    $205,500  \n",
      "9   2008-12-13    $103,600  \n",
      "10  2008-12-19     $90,560  \n",
      "11  2013-03-03    $342,000  \n",
      "12  2008-10-16    $470,600  \n",
      "13  2012-12-18    $313,500  \n",
      "14  2010-03-17    $385,750  \n",
      "15  2012-11-27    $198,500  \n",
      "16  2010-06-09    $725,000  \n",
      "17  2009-04-10    $237,500  \n",
      "18  2012-10-13    $132,000  \n",
      "19  2012-09-26    $217,500  \n",
      "20  2011-09-03    $345,000  \n",
      "21  2009-06-25    $675,000  \n",
      "22  2011-12-12    $106,450  \n",
      "23  2010-09-20     $85,600  \n",
      "24  2009-10-09  $1,200,000  \n",
      "25  2010-12-22     $92,575  \n",
      "26  2010-11-14    $357,650  \n",
      "27  2011-06-07    $206,850  \n",
      "28  2010-03-11    $850,000  \n",
      "29  2011-08-14    $163,000  \n",
      "30  2011-06-02     $95,400  \n",
      "31  2009-10-22    $114,500  \n",
      "32  2011-05-07    $145,000  \n",
      "33  2008-10-26    $235,500  \n",
      "34  2011-03-09    $324,050  \n",
      "35  2009-12-09     $85,675  \n",
      "36  2008-12-16    $164,500  \n",
      "37  2010-02-12    $109,850  \n",
      "38  2009-02-14    $452,500  \n",
      "39  2008-12-11    $136,200  \n",
      "40  2008-09-26    $645,750  \n",
      "41  2011-02-03    $234,500  \n",
      "42  2011-05-03    $163,500  \n",
      "43  2009-08-19    $139,575  \n",
      "44  2013-08-11     $98,540  \n",
      "45  2009-07-07     $87,500  \n",
      "46  2012-04-09    $138,575  \n",
      "47  2010-01-04    $125,250  \n",
      "48  2012-06-01    $115,000  \n",
      "49  2013-02-01     $75,650  \n",
      "50  2011-12-06    $145,600  \n",
      "51  2011-03-21    $356,250  \n",
      "52  2009-02-27    $103,500  \n",
      "53  2010-07-14     $86,500  \n",
      "54  2008-11-13    $183,000  \n",
      "55  2011-06-27    $183,000  \n",
      "56  2011-01-25    $112,000  \n"
     ]
    }
   ],
   "source": [
    "print(df)"
   ]
  },
  {
   "cell_type": "code",
   "execution_count": 82,
   "id": "6ac92ce6-e2d9-4bbe-9201-173aa9b6ecff",
   "metadata": {},
   "outputs": [],
   "source": [
    "df.to_csv(\"C:/Users/user/Desktop/Projects/Python/Employees Data.csv\", index = False)"
   ]
  }
 ],
 "metadata": {
  "kernelspec": {
   "display_name": "Python 3 (ipykernel)",
   "language": "python",
   "name": "python3"
  },
  "language_info": {
   "codemirror_mode": {
    "name": "ipython",
    "version": 3
   },
   "file_extension": ".py",
   "mimetype": "text/x-python",
   "name": "python",
   "nbconvert_exporter": "python",
   "pygments_lexer": "ipython3",
   "version": "3.10.6"
  }
 },
 "nbformat": 4,
 "nbformat_minor": 5
}
