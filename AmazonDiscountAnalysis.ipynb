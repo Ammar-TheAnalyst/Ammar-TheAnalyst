{
 "cells": [
  {
   "cell_type": "markdown",
   "id": "bda872f9-1f13-4c5a-83a8-31c0ffd0e608",
   "metadata": {},
   "source": [
    "# Import libraries"
   ]
  },
  {
   "cell_type": "code",
   "execution_count": 103,
   "id": "da1fd435-bd44-437d-a0be-7cf1e3c1a40b",
   "metadata": {},
   "outputs": [],
   "source": [
    "import pandas as pd\n",
    "import matplotlib.pyplot as plt"
   ]
  },
  {
   "cell_type": "markdown",
   "id": "88c12b9b-99d4-413c-8cad-532e11b2d241",
   "metadata": {},
   "source": [
    "# Load the CSV file "
   ]
  },
  {
   "cell_type": "code",
   "execution_count": 475,
   "id": "f71276b8-0f6e-46ec-9a1a-86cf832e67cb",
   "metadata": {
    "scrolled": true
   },
   "outputs": [
    {
     "name": "stdout",
     "output_type": "stream",
     "text": [
      "<class 'pandas.core.frame.DataFrame'>\n",
      "RangeIndex: 1465 entries, 0 to 1464\n",
      "Data columns (total 9 columns):\n",
      " #   Column               Non-Null Count  Dtype  \n",
      "---  ------               --------------  -----  \n",
      " 0   Product id           1465 non-null   object \n",
      " 1   Product name         1465 non-null   object \n",
      " 2   Category             1465 non-null   object \n",
      " 3   Discounted price     1465 non-null   int64  \n",
      " 4   Actual price         1465 non-null   int64  \n",
      " 5   Discount percentage  1465 non-null   object \n",
      " 6   Rating               1465 non-null   float64\n",
      " 7   Rating count         1463 non-null   object \n",
      " 8   About product        1465 non-null   object \n",
      "dtypes: float64(1), int64(2), object(6)\n",
      "memory usage: 103.1+ KB\n"
     ]
    }
   ],
   "source": [
    "df = pd.read_csv(\"C:/Users/user/Desktop/Projects/Python/New folder/amazon.csv\")\n",
    "df.info()"
   ]
  },
  {
   "cell_type": "markdown",
   "id": "96b7e7b0-b87d-4686-b4f9-bc4a3911001f",
   "metadata": {},
   "source": [
    "# Convert Dtypes"
   ]
  },
  {
   "cell_type": "code",
   "execution_count": 71,
   "id": "d5190c74-1d83-4c98-8388-6b26bd323a2b",
   "metadata": {},
   "outputs": [],
   "source": [
    "df['Discounted price'] = df['Discounted price'].astype(int)\n",
    "df['Actual price'] = df['Actual price'].astype(int)\n",
    "df['Rating'] = df['Rating'].astype(float)\n",
    "df['Discount percentage'] = df['Discount percentage'].str.replace('%', '').astype(float) / 1"
   ]
  },
  {
   "cell_type": "markdown",
   "id": "7675cbe3-12e3-4ca7-8edd-efcf1e37771e",
   "metadata": {},
   "source": [
    "# Data Cleaning"
   ]
  },
  {
   "cell_type": "code",
   "execution_count": 477,
   "id": "5bacb3ec-818d-4074-9979-99bdbf574169",
   "metadata": {},
   "outputs": [
    {
     "data": {
      "text/plain": [
       "Product id             0\n",
       "Product name           0\n",
       "Category               0\n",
       "Discounted price       0\n",
       "Actual price           0\n",
       "Discount percentage    0\n",
       "Rating                 0\n",
       "Rating count           2\n",
       "About product          0\n",
       "dtype: int64"
      ]
     },
     "execution_count": 477,
     "metadata": {},
     "output_type": "execute_result"
    }
   ],
   "source": [
    "pd.set_option('display.max.rows', None)\n",
    "pd.set_option('display.max.columns', None)\n",
    "df.isnull().sum()"
   ]
  },
  {
   "cell_type": "code",
   "execution_count": 75,
   "id": "73c084ad-ae87-4e30-84da-cd709148ea87",
   "metadata": {},
   "outputs": [
    {
     "name": "stdout",
     "output_type": "stream",
     "text": [
      "Product id             0\n",
      "Product name           0\n",
      "Category               0\n",
      "Discounted price       0\n",
      "Actual price           0\n",
      "Discount percentage    0\n",
      "Rating                 0\n",
      "Rating count           0\n",
      "About product          0\n",
      "dtype: int64\n"
     ]
    }
   ],
   "source": [
    "df['Rating count'].fillna(0, inplace = True)\n",
    "print(df.isnull().sum())"
   ]
  },
  {
   "cell_type": "markdown",
   "id": "0b5cf2c6-5a05-46ad-9ccf-0903708c3096",
   "metadata": {},
   "source": [
    "# Exploring Data"
   ]
  },
  {
   "cell_type": "code",
   "execution_count": 73,
   "id": "eddc6666-f48f-4317-ac00-b7e7e9f0514a",
   "metadata": {
    "scrolled": true
   },
   "outputs": [
    {
     "name": "stdout",
     "output_type": "stream",
     "text": [
      "<class 'pandas.core.frame.DataFrame'>\n",
      "RangeIndex: 1465 entries, 0 to 1464\n",
      "Data columns (total 9 columns):\n",
      " #   Column               Non-Null Count  Dtype  \n",
      "---  ------               --------------  -----  \n",
      " 0   Product id           1465 non-null   object \n",
      " 1   Product name         1465 non-null   object \n",
      " 2   Category             1465 non-null   object \n",
      " 3   Discounted price     1465 non-null   int32  \n",
      " 4   Actual price         1465 non-null   int32  \n",
      " 5   Discount percentage  1465 non-null   float64\n",
      " 6   Rating               1465 non-null   float64\n",
      " 7   Rating count         1465 non-null   object \n",
      " 8   About product        1465 non-null   object \n",
      "dtypes: float64(2), int32(2), object(5)\n",
      "memory usage: 91.7+ KB\n"
     ]
    }
   ],
   "source": [
    "df.info()"
   ]
  },
  {
   "cell_type": "code",
   "execution_count": 65,
   "id": "12be706c-e8b7-47db-b19f-52c2313e3103",
   "metadata": {},
   "outputs": [
    {
     "data": {
      "text/html": [
       "<div>\n",
       "<style scoped>\n",
       "    .dataframe tbody tr th:only-of-type {\n",
       "        vertical-align: middle;\n",
       "    }\n",
       "\n",
       "    .dataframe tbody tr th {\n",
       "        vertical-align: top;\n",
       "    }\n",
       "\n",
       "    .dataframe thead th {\n",
       "        text-align: right;\n",
       "    }\n",
       "</style>\n",
       "<table border=\"1\" class=\"dataframe\">\n",
       "  <thead>\n",
       "    <tr style=\"text-align: right;\">\n",
       "      <th></th>\n",
       "      <th>Product id</th>\n",
       "      <th>Product name</th>\n",
       "      <th>Category</th>\n",
       "      <th>Discounted price</th>\n",
       "      <th>Actual price</th>\n",
       "      <th>Discount percentage</th>\n",
       "      <th>Rating</th>\n",
       "      <th>Rating count</th>\n",
       "      <th>About product</th>\n",
       "    </tr>\n",
       "  </thead>\n",
       "  <tbody>\n",
       "    <tr>\n",
       "      <th>0</th>\n",
       "      <td>B08TDJ5BVF</td>\n",
       "      <td>E-COSMOS 5V 1.2W Portable Flexible USB LED Lig...</td>\n",
       "      <td>Computers&amp;Accessories|Accessories&amp;Peripherals|...</td>\n",
       "      <td>39</td>\n",
       "      <td>39</td>\n",
       "      <td>0.0</td>\n",
       "      <td>3.8</td>\n",
       "      <td>3344.00</td>\n",
       "      <td>The side the LED light falls on will depend on...</td>\n",
       "    </tr>\n",
       "    <tr>\n",
       "      <th>1</th>\n",
       "      <td>B00URH5E34</td>\n",
       "      <td>Inventis 5V 1.2W Portable Flexible USB LED Lig...</td>\n",
       "      <td>Computers&amp;Accessories|Accessories&amp;Peripherals|...</td>\n",
       "      <td>39</td>\n",
       "      <td>39</td>\n",
       "      <td>0.0</td>\n",
       "      <td>3.6</td>\n",
       "      <td>13572.00</td>\n",
       "      <td>The side the LED light falls on will depend on...</td>\n",
       "    </tr>\n",
       "    <tr>\n",
       "      <th>2</th>\n",
       "      <td>B07KCMR8D6</td>\n",
       "      <td>Classmate Octane Neon- Blue Gel Pens(Pack of 5...</td>\n",
       "      <td>OfficeProducts|OfficePaperProducts|Paper|Stati...</td>\n",
       "      <td>50</td>\n",
       "      <td>50</td>\n",
       "      <td>0.0</td>\n",
       "      <td>4.3</td>\n",
       "      <td>5792.00</td>\n",
       "      <td>5 vibrant Neon body color|Smooth and fast writ...</td>\n",
       "    </tr>\n",
       "    <tr>\n",
       "      <th>3</th>\n",
       "      <td>B08TDJNM3G</td>\n",
       "      <td>E-COSMOS 5V 1.2W Portable Flexible USB LED Lig...</td>\n",
       "      <td>Computers&amp;Accessories|Accessories&amp;Peripherals|...</td>\n",
       "      <td>59</td>\n",
       "      <td>59</td>\n",
       "      <td>0.0</td>\n",
       "      <td>3.8</td>\n",
       "      <td>5958.00</td>\n",
       "      <td>Portable, easy to use|LED lights for maximum i...</td>\n",
       "    </tr>\n",
       "    <tr>\n",
       "      <th>4</th>\n",
       "      <td>B00P93X2H6</td>\n",
       "      <td>Classmate Pulse Spiral Notebook - 240 mm x 180...</td>\n",
       "      <td>OfficeProducts|OfficePaperProducts|Paper|Stati...</td>\n",
       "      <td>67</td>\n",
       "      <td>75</td>\n",
       "      <td>11.0</td>\n",
       "      <td>4.1</td>\n",
       "      <td>1269.00</td>\n",
       "      <td>The cover design of the notebook is subject to...</td>\n",
       "    </tr>\n",
       "  </tbody>\n",
       "</table>\n",
       "</div>"
      ],
      "text/plain": [
       "   Product id                                       Product name  \\\n",
       "0  B08TDJ5BVF  E-COSMOS 5V 1.2W Portable Flexible USB LED Lig...   \n",
       "1  B00URH5E34  Inventis 5V 1.2W Portable Flexible USB LED Lig...   \n",
       "2  B07KCMR8D6  Classmate Octane Neon- Blue Gel Pens(Pack of 5...   \n",
       "3  B08TDJNM3G  E-COSMOS 5V 1.2W Portable Flexible USB LED Lig...   \n",
       "4  B00P93X2H6  Classmate Pulse Spiral Notebook - 240 mm x 180...   \n",
       "\n",
       "                                            Category  Discounted price  \\\n",
       "0  Computers&Accessories|Accessories&Peripherals|...                39   \n",
       "1  Computers&Accessories|Accessories&Peripherals|...                39   \n",
       "2  OfficeProducts|OfficePaperProducts|Paper|Stati...                50   \n",
       "3  Computers&Accessories|Accessories&Peripherals|...                59   \n",
       "4  OfficeProducts|OfficePaperProducts|Paper|Stati...                67   \n",
       "\n",
       "   Actual price  Discount percentage  Rating Rating count  \\\n",
       "0            39                  0.0     3.8      3344.00   \n",
       "1            39                  0.0     3.6     13572.00   \n",
       "2            50                  0.0     4.3      5792.00   \n",
       "3            59                  0.0     3.8      5958.00   \n",
       "4            75                 11.0     4.1      1269.00   \n",
       "\n",
       "                                       About product  \n",
       "0  The side the LED light falls on will depend on...  \n",
       "1  The side the LED light falls on will depend on...  \n",
       "2  5 vibrant Neon body color|Smooth and fast writ...  \n",
       "3  Portable, easy to use|LED lights for maximum i...  \n",
       "4  The cover design of the notebook is subject to...  "
      ]
     },
     "execution_count": 65,
     "metadata": {},
     "output_type": "execute_result"
    }
   ],
   "source": [
    "df.head()"
   ]
  },
  {
   "cell_type": "code",
   "execution_count": 66,
   "id": "a558cf6c-923b-41d5-b3b5-80329e677b14",
   "metadata": {},
   "outputs": [
    {
     "data": {
      "text/html": [
       "<div>\n",
       "<style scoped>\n",
       "    .dataframe tbody tr th:only-of-type {\n",
       "        vertical-align: middle;\n",
       "    }\n",
       "\n",
       "    .dataframe tbody tr th {\n",
       "        vertical-align: top;\n",
       "    }\n",
       "\n",
       "    .dataframe thead th {\n",
       "        text-align: right;\n",
       "    }\n",
       "</style>\n",
       "<table border=\"1\" class=\"dataframe\">\n",
       "  <thead>\n",
       "    <tr style=\"text-align: right;\">\n",
       "      <th></th>\n",
       "      <th>Product id</th>\n",
       "      <th>Product name</th>\n",
       "      <th>Category</th>\n",
       "      <th>Discounted price</th>\n",
       "      <th>Actual price</th>\n",
       "      <th>Discount percentage</th>\n",
       "      <th>Rating</th>\n",
       "      <th>Rating count</th>\n",
       "      <th>About product</th>\n",
       "    </tr>\n",
       "  </thead>\n",
       "  <tbody>\n",
       "    <tr>\n",
       "      <th>1462</th>\n",
       "      <td>B0B3XXSB1K</td>\n",
       "      <td>LG 139 cm (55 inches) 4K Ultra HD Smart LED TV...</td>\n",
       "      <td>Electronics|HomeTheater,TV&amp;Video|Televisions|S...</td>\n",
       "      <td>47990</td>\n",
       "      <td>79990</td>\n",
       "      <td>40.0</td>\n",
       "      <td>4.3</td>\n",
       "      <td>1,376</td>\n",
       "      <td>Resolution: 4K Ultra HD (3840x2160) | Refresh ...</td>\n",
       "    </tr>\n",
       "    <tr>\n",
       "      <th>1463</th>\n",
       "      <td>B0BC8BQ432</td>\n",
       "      <td>VU 164 cm (65 inches) The GloLED Series 4K Sma...</td>\n",
       "      <td>Electronics|HomeTheater,TV&amp;Video|Televisions|S...</td>\n",
       "      <td>54990</td>\n",
       "      <td>85000</td>\n",
       "      <td>35.0</td>\n",
       "      <td>4.3</td>\n",
       "      <td>3587</td>\n",
       "      <td>Resolution: 4K Ultra HD (3840x2160) | Refresh ...</td>\n",
       "    </tr>\n",
       "    <tr>\n",
       "      <th>1464</th>\n",
       "      <td>B09WN3SRC7</td>\n",
       "      <td>Sony Bravia 164 cm (65 inches) 4K Ultra HD Sma...</td>\n",
       "      <td>Electronics|HomeTheater,TV&amp;Video|Televisions|S...</td>\n",
       "      <td>77990</td>\n",
       "      <td>139900</td>\n",
       "      <td>44.0</td>\n",
       "      <td>4.7</td>\n",
       "      <td>5935</td>\n",
       "      <td>Resolution: 4K Ultra HD (3840 x 2160) | Refres...</td>\n",
       "    </tr>\n",
       "  </tbody>\n",
       "</table>\n",
       "</div>"
      ],
      "text/plain": [
       "      Product id                                       Product name  \\\n",
       "1462  B0B3XXSB1K  LG 139 cm (55 inches) 4K Ultra HD Smart LED TV...   \n",
       "1463  B0BC8BQ432  VU 164 cm (65 inches) The GloLED Series 4K Sma...   \n",
       "1464  B09WN3SRC7  Sony Bravia 164 cm (65 inches) 4K Ultra HD Sma...   \n",
       "\n",
       "                                               Category  Discounted price  \\\n",
       "1462  Electronics|HomeTheater,TV&Video|Televisions|S...             47990   \n",
       "1463  Electronics|HomeTheater,TV&Video|Televisions|S...             54990   \n",
       "1464  Electronics|HomeTheater,TV&Video|Televisions|S...             77990   \n",
       "\n",
       "      Actual price  Discount percentage  Rating Rating count  \\\n",
       "1462         79990                 40.0     4.3        1,376   \n",
       "1463         85000                 35.0     4.3         3587   \n",
       "1464        139900                 44.0     4.7         5935   \n",
       "\n",
       "                                          About product  \n",
       "1462  Resolution: 4K Ultra HD (3840x2160) | Refresh ...  \n",
       "1463  Resolution: 4K Ultra HD (3840x2160) | Refresh ...  \n",
       "1464  Resolution: 4K Ultra HD (3840 x 2160) | Refres...  "
      ]
     },
     "execution_count": 66,
     "metadata": {},
     "output_type": "execute_result"
    }
   ],
   "source": [
    "df.tail(3)"
   ]
  },
  {
   "cell_type": "code",
   "execution_count": 67,
   "id": "e2e8c41e-19ae-416e-bd57-2c957f98f7de",
   "metadata": {},
   "outputs": [
    {
     "data": {
      "text/html": [
       "<div>\n",
       "<style scoped>\n",
       "    .dataframe tbody tr th:only-of-type {\n",
       "        vertical-align: middle;\n",
       "    }\n",
       "\n",
       "    .dataframe tbody tr th {\n",
       "        vertical-align: top;\n",
       "    }\n",
       "\n",
       "    .dataframe thead th {\n",
       "        text-align: right;\n",
       "    }\n",
       "</style>\n",
       "<table border=\"1\" class=\"dataframe\">\n",
       "  <thead>\n",
       "    <tr style=\"text-align: right;\">\n",
       "      <th></th>\n",
       "      <th>Discounted price</th>\n",
       "      <th>Actual price</th>\n",
       "      <th>Discount percentage</th>\n",
       "      <th>Rating</th>\n",
       "    </tr>\n",
       "  </thead>\n",
       "  <tbody>\n",
       "    <tr>\n",
       "      <th>count</th>\n",
       "      <td>1465.000000</td>\n",
       "      <td>1465.000000</td>\n",
       "      <td>1465.000000</td>\n",
       "      <td>1465.000000</td>\n",
       "    </tr>\n",
       "    <tr>\n",
       "      <th>mean</th>\n",
       "      <td>3125.311945</td>\n",
       "      <td>5444.991126</td>\n",
       "      <td>47.691468</td>\n",
       "      <td>4.093788</td>\n",
       "    </tr>\n",
       "    <tr>\n",
       "      <th>std</th>\n",
       "      <td>6944.304275</td>\n",
       "      <td>10874.826657</td>\n",
       "      <td>21.635905</td>\n",
       "      <td>0.310598</td>\n",
       "    </tr>\n",
       "    <tr>\n",
       "      <th>min</th>\n",
       "      <td>39.000000</td>\n",
       "      <td>39.000000</td>\n",
       "      <td>0.000000</td>\n",
       "      <td>0.000000</td>\n",
       "    </tr>\n",
       "    <tr>\n",
       "      <th>25%</th>\n",
       "      <td>325.000000</td>\n",
       "      <td>800.000000</td>\n",
       "      <td>32.000000</td>\n",
       "      <td>4.000000</td>\n",
       "    </tr>\n",
       "    <tr>\n",
       "      <th>50%</th>\n",
       "      <td>799.000000</td>\n",
       "      <td>1650.000000</td>\n",
       "      <td>50.000000</td>\n",
       "      <td>4.100000</td>\n",
       "    </tr>\n",
       "    <tr>\n",
       "      <th>75%</th>\n",
       "      <td>1999.000000</td>\n",
       "      <td>4295.000000</td>\n",
       "      <td>63.000000</td>\n",
       "      <td>4.300000</td>\n",
       "    </tr>\n",
       "    <tr>\n",
       "      <th>max</th>\n",
       "      <td>77990.000000</td>\n",
       "      <td>139900.000000</td>\n",
       "      <td>94.000000</td>\n",
       "      <td>5.000000</td>\n",
       "    </tr>\n",
       "  </tbody>\n",
       "</table>\n",
       "</div>"
      ],
      "text/plain": [
       "       Discounted price   Actual price  Discount percentage       Rating\n",
       "count       1465.000000    1465.000000          1465.000000  1465.000000\n",
       "mean        3125.311945    5444.991126            47.691468     4.093788\n",
       "std         6944.304275   10874.826657            21.635905     0.310598\n",
       "min           39.000000      39.000000             0.000000     0.000000\n",
       "25%          325.000000     800.000000            32.000000     4.000000\n",
       "50%          799.000000    1650.000000            50.000000     4.100000\n",
       "75%         1999.000000    4295.000000            63.000000     4.300000\n",
       "max        77990.000000  139900.000000            94.000000     5.000000"
      ]
     },
     "execution_count": 67,
     "metadata": {},
     "output_type": "execute_result"
    }
   ],
   "source": [
    "df.describe()"
   ]
  },
  {
   "cell_type": "raw",
   "id": "dce13457-b150-4927-bfa2-e684bc9ac83d",
   "metadata": {},
   "source": [
    "The analysis reveals that the maximum discount percentage offered is an immpressive 94%, indicating significant savings on certain products. Additionally, the customer ratings show that the highest rating achevied is 5, with 75% of customers giving an average rating of 4.3. This suggests a storng customer satisfaction level, particularly among those benefiting from substanial discount."
   ]
  },
  {
   "cell_type": "raw",
   "id": "694f7e7a-00b4-40ff-a167-ea0171e55b35",
   "metadata": {},
   "source": []
  },
  {
   "cell_type": "markdown",
   "id": "928a0057-e123-423d-8e7c-4b77022f6ddb",
   "metadata": {},
   "source": [
    "# Data Analisys"
   ]
  },
  {
   "cell_type": "raw",
   "id": "92d2b4cd-e06b-46dc-9890-03ac27e401f0",
   "metadata": {},
   "source": [
    "Products with discount of 90% or above"
   ]
  },
  {
   "cell_type": "code",
   "execution_count": 100,
   "id": "aadbdf9a-596e-4782-8b87-5db4cdffebfd",
   "metadata": {},
   "outputs": [
    {
     "data": {
      "text/html": [
       "<div>\n",
       "<style scoped>\n",
       "    .dataframe tbody tr th:only-of-type {\n",
       "        vertical-align: middle;\n",
       "    }\n",
       "\n",
       "    .dataframe tbody tr th {\n",
       "        vertical-align: top;\n",
       "    }\n",
       "\n",
       "    .dataframe thead th {\n",
       "        text-align: right;\n",
       "    }\n",
       "</style>\n",
       "<table border=\"1\" class=\"dataframe\">\n",
       "  <thead>\n",
       "    <tr style=\"text-align: right;\">\n",
       "      <th></th>\n",
       "      <th>Product name</th>\n",
       "      <th>Actual price</th>\n",
       "      <th>Discounted price</th>\n",
       "      <th>Discount percentage</th>\n",
       "    </tr>\n",
       "    <tr>\n",
       "      <th>Product id</th>\n",
       "      <th></th>\n",
       "      <th></th>\n",
       "      <th></th>\n",
       "      <th></th>\n",
       "    </tr>\n",
       "  </thead>\n",
       "  <tbody>\n",
       "    <tr>\n",
       "      <th>B085HY1DGR</th>\n",
       "      <td>Sounce Spiral Charger Cable Protector Data Cab...</td>\n",
       "      <td>999</td>\n",
       "      <td>99</td>\n",
       "      <td>90.0</td>\n",
       "    </tr>\n",
       "    <tr>\n",
       "      <th>B0BBW521YC</th>\n",
       "      <td>LAPSTER 12pcs Spiral Cable Protectors for Char...</td>\n",
       "      <td>999</td>\n",
       "      <td>99</td>\n",
       "      <td>90.0</td>\n",
       "    </tr>\n",
       "    <tr>\n",
       "      <th>B08W56G1K9</th>\n",
       "      <td>LAPSTER Spiral Charger Spiral Charger Cable Pr...</td>\n",
       "      <td>999</td>\n",
       "      <td>99</td>\n",
       "      <td>90.0</td>\n",
       "    </tr>\n",
       "    <tr>\n",
       "      <th>B085HY1DGR</th>\n",
       "      <td>Sounce Spiral Charger Cable Protector Data Cab...</td>\n",
       "      <td>999</td>\n",
       "      <td>99</td>\n",
       "      <td>90.0</td>\n",
       "    </tr>\n",
       "    <tr>\n",
       "      <th>B08X77LM8C</th>\n",
       "      <td>Silicone Rubber Earbuds Tips, Eartips, Earpads...</td>\n",
       "      <td>999</td>\n",
       "      <td>99</td>\n",
       "      <td>90.0</td>\n",
       "    </tr>\n",
       "    <tr>\n",
       "      <th>B096MSW6CT</th>\n",
       "      <td>Sounce Fast Phone Charging Cable &amp; Data Sync U...</td>\n",
       "      <td>1899</td>\n",
       "      <td>199</td>\n",
       "      <td>90.0</td>\n",
       "    </tr>\n",
       "    <tr>\n",
       "      <th>B09SJ1FTYV</th>\n",
       "      <td>Sounce Protective Case Cover Compatible Boat X...</td>\n",
       "      <td>1899</td>\n",
       "      <td>199</td>\n",
       "      <td>90.0</td>\n",
       "    </tr>\n",
       "    <tr>\n",
       "      <th>B0B61DSF17</th>\n",
       "      <td>beatXP Kitchen Scale Multipurpose Portable Ele...</td>\n",
       "      <td>1999</td>\n",
       "      <td>199</td>\n",
       "      <td>90.0</td>\n",
       "    </tr>\n",
       "    <tr>\n",
       "      <th>B097C564GC</th>\n",
       "      <td>rts [2 Pack] Mini USB C Type C Adapter Plug, T...</td>\n",
       "      <td>4999</td>\n",
       "      <td>294</td>\n",
       "      <td>94.0</td>\n",
       "    </tr>\n",
       "    <tr>\n",
       "      <th>B0BF57RN3K</th>\n",
       "      <td>Fire-Boltt Ninja Call Pro Plus 1.83\" Smart Wat...</td>\n",
       "      <td>19999</td>\n",
       "      <td>1799</td>\n",
       "      <td>91.0</td>\n",
       "    </tr>\n",
       "    <tr>\n",
       "      <th>B0BF54972T</th>\n",
       "      <td>Fire-Boltt Ninja Call Pro Plus 1.83\" Smart Wat...</td>\n",
       "      <td>19999</td>\n",
       "      <td>1799</td>\n",
       "      <td>91.0</td>\n",
       "    </tr>\n",
       "    <tr>\n",
       "      <th>B0BF563HB4</th>\n",
       "      <td>Fire-Boltt Ninja Call Pro Plus 1.83\" Smart Wat...</td>\n",
       "      <td>19999</td>\n",
       "      <td>1799</td>\n",
       "      <td>91.0</td>\n",
       "    </tr>\n",
       "    <tr>\n",
       "      <th>B0BF4YBLPX</th>\n",
       "      <td>Fire-Boltt Ninja Call Pro Plus 1.83\" Smart Wat...</td>\n",
       "      <td>19999</td>\n",
       "      <td>1799</td>\n",
       "      <td>91.0</td>\n",
       "    </tr>\n",
       "    <tr>\n",
       "      <th>B0BF54LXW6</th>\n",
       "      <td>Fire-Boltt Ninja Call Pro Plus 1.83\" Smart Wat...</td>\n",
       "      <td>19999</td>\n",
       "      <td>1799</td>\n",
       "      <td>91.0</td>\n",
       "    </tr>\n",
       "  </tbody>\n",
       "</table>\n",
       "</div>"
      ],
      "text/plain": [
       "                                                 Product name  Actual price  \\\n",
       "Product id                                                                    \n",
       "B085HY1DGR  Sounce Spiral Charger Cable Protector Data Cab...           999   \n",
       "B0BBW521YC  LAPSTER 12pcs Spiral Cable Protectors for Char...           999   \n",
       "B08W56G1K9  LAPSTER Spiral Charger Spiral Charger Cable Pr...           999   \n",
       "B085HY1DGR  Sounce Spiral Charger Cable Protector Data Cab...           999   \n",
       "B08X77LM8C  Silicone Rubber Earbuds Tips, Eartips, Earpads...           999   \n",
       "B096MSW6CT  Sounce Fast Phone Charging Cable & Data Sync U...          1899   \n",
       "B09SJ1FTYV  Sounce Protective Case Cover Compatible Boat X...          1899   \n",
       "B0B61DSF17  beatXP Kitchen Scale Multipurpose Portable Ele...          1999   \n",
       "B097C564GC  rts [2 Pack] Mini USB C Type C Adapter Plug, T...          4999   \n",
       "B0BF57RN3K  Fire-Boltt Ninja Call Pro Plus 1.83\" Smart Wat...         19999   \n",
       "B0BF54972T  Fire-Boltt Ninja Call Pro Plus 1.83\" Smart Wat...         19999   \n",
       "B0BF563HB4  Fire-Boltt Ninja Call Pro Plus 1.83\" Smart Wat...         19999   \n",
       "B0BF4YBLPX  Fire-Boltt Ninja Call Pro Plus 1.83\" Smart Wat...         19999   \n",
       "B0BF54LXW6  Fire-Boltt Ninja Call Pro Plus 1.83\" Smart Wat...         19999   \n",
       "\n",
       "            Discounted price  Discount percentage  \n",
       "Product id                                         \n",
       "B085HY1DGR                99                 90.0  \n",
       "B0BBW521YC                99                 90.0  \n",
       "B08W56G1K9                99                 90.0  \n",
       "B085HY1DGR                99                 90.0  \n",
       "B08X77LM8C                99                 90.0  \n",
       "B096MSW6CT               199                 90.0  \n",
       "B09SJ1FTYV               199                 90.0  \n",
       "B0B61DSF17               199                 90.0  \n",
       "B097C564GC               294                 94.0  \n",
       "B0BF57RN3K              1799                 91.0  \n",
       "B0BF54972T              1799                 91.0  \n",
       "B0BF563HB4              1799                 91.0  \n",
       "B0BF4YBLPX              1799                 91.0  \n",
       "B0BF54LXW6              1799                 91.0  "
      ]
     },
     "execution_count": 100,
     "metadata": {},
     "output_type": "execute_result"
    }
   ],
   "source": [
    "df1 = df[df['Discount percentage'] >= 90.0]\n",
    "df1[['Product name','Actual price','Discounted price','Discount percentage']]"
   ]
  },
  {
   "cell_type": "raw",
   "id": "01762569-dd8c-44dd-b63e-c35c72e63a58",
   "metadata": {},
   "source": []
  },
  {
   "cell_type": "raw",
   "id": "3ba6c5aa-1cb9-4732-9351-08175221cd75",
   "metadata": {},
   "source": [
    " Discounts on boAt Bassheads"
   ]
  },
  {
   "cell_type": "code",
   "execution_count": 282,
   "id": "92244a75-abd1-4db6-9113-aa7ed9771e6d",
   "metadata": {
    "scrolled": true
   },
   "outputs": [
    {
     "data": {
      "text/html": [
       "<div>\n",
       "<style scoped>\n",
       "    .dataframe tbody tr th:only-of-type {\n",
       "        vertical-align: middle;\n",
       "    }\n",
       "\n",
       "    .dataframe tbody tr th {\n",
       "        vertical-align: top;\n",
       "    }\n",
       "\n",
       "    .dataframe thead th {\n",
       "        text-align: right;\n",
       "    }\n",
       "</style>\n",
       "<table border=\"1\" class=\"dataframe\">\n",
       "  <thead>\n",
       "    <tr style=\"text-align: right;\">\n",
       "      <th></th>\n",
       "      <th>Product id</th>\n",
       "      <th>Product name</th>\n",
       "      <th>Category</th>\n",
       "      <th>Discounted price</th>\n",
       "      <th>Actual price</th>\n",
       "      <th>Discount percentage</th>\n",
       "      <th>Rating</th>\n",
       "      <th>Rating count</th>\n",
       "      <th>About product</th>\n",
       "    </tr>\n",
       "  </thead>\n",
       "  <tbody>\n",
       "    <tr>\n",
       "      <th>452</th>\n",
       "      <td>B07GPXXNNG</td>\n",
       "      <td>boAt Bassheads 100 in Ear Wired Earphones with...</td>\n",
       "      <td>Electronics|Headphones,Earbuds&amp;Accessories|Hea...</td>\n",
       "      <td>349</td>\n",
       "      <td>999</td>\n",
       "      <td>65.0</td>\n",
       "      <td>4.1</td>\n",
       "      <td>3,63,713</td>\n",
       "      <td>The perfect way to add some style and stand ou...</td>\n",
       "    </tr>\n",
       "    <tr>\n",
       "      <th>455</th>\n",
       "      <td>B07GQD4K6L</td>\n",
       "      <td>boAt Bassheads 100 in Ear Wired Earphones with...</td>\n",
       "      <td>Electronics|Headphones,Earbuds&amp;Accessories|Hea...</td>\n",
       "      <td>379</td>\n",
       "      <td>999</td>\n",
       "      <td>62.0</td>\n",
       "      <td>4.1</td>\n",
       "      <td>3,63,713</td>\n",
       "      <td>The perfect way to add some style and stand ou...</td>\n",
       "    </tr>\n",
       "    <tr>\n",
       "      <th>487</th>\n",
       "      <td>B01MF8MB65</td>\n",
       "      <td>boAt Bassheads 225 in Ear Wired Earphones with...</td>\n",
       "      <td>Electronics|Headphones,Earbuds&amp;Accessories|Hea...</td>\n",
       "      <td>699</td>\n",
       "      <td>999</td>\n",
       "      <td>30.0</td>\n",
       "      <td>4.1</td>\n",
       "      <td>2,73,189</td>\n",
       "      <td>Has a PVC cable which is durable and tangle fr...</td>\n",
       "    </tr>\n",
       "    <tr>\n",
       "      <th>599</th>\n",
       "      <td>B07KY3FNQP</td>\n",
       "      <td>boAt Bassheads 152 in Ear Wired Earphones with...</td>\n",
       "      <td>Electronics|Headphones,Earbuds&amp;Accessories|Hea...</td>\n",
       "      <td>449</td>\n",
       "      <td>1290</td>\n",
       "      <td>65.0</td>\n",
       "      <td>4.1</td>\n",
       "      <td>91,770</td>\n",
       "      <td>Break away from old habits through HD sound vi...</td>\n",
       "    </tr>\n",
       "    <tr>\n",
       "      <th>601</th>\n",
       "      <td>B08MTLLSL8</td>\n",
       "      <td>boAt Bassheads 102 Wired in Ear Earphones with...</td>\n",
       "      <td>Electronics|Headphones,Earbuds&amp;Accessories|Hea...</td>\n",
       "      <td>399</td>\n",
       "      <td>1290</td>\n",
       "      <td>69.0</td>\n",
       "      <td>4.2</td>\n",
       "      <td>76,042</td>\n",
       "      <td>Let go off all your troubles and sink into the...</td>\n",
       "    </tr>\n",
       "    <tr>\n",
       "      <th>648</th>\n",
       "      <td>B07S9S86BF</td>\n",
       "      <td>boAt Bassheads 242 in Ear Wired Earphones with...</td>\n",
       "      <td>Electronics|Headphones,Earbuds&amp;Accessories|Hea...</td>\n",
       "      <td>599</td>\n",
       "      <td>1490</td>\n",
       "      <td>60.0</td>\n",
       "      <td>4.1</td>\n",
       "      <td>1,61,679</td>\n",
       "      <td>Fly into your workouts with precise tones that...</td>\n",
       "    </tr>\n",
       "    <tr>\n",
       "      <th>649</th>\n",
       "      <td>B08H9Z3XQW</td>\n",
       "      <td>boAt Bassheads 242 in Ear Wired Earphones with...</td>\n",
       "      <td>Electronics|Headphones,Earbuds&amp;Accessories|Hea...</td>\n",
       "      <td>455</td>\n",
       "      <td>1490</td>\n",
       "      <td>69.0</td>\n",
       "      <td>4.1</td>\n",
       "      <td>1,61,677</td>\n",
       "      <td>Fly into your workouts with precise tones that...</td>\n",
       "    </tr>\n",
       "  </tbody>\n",
       "</table>\n",
       "</div>"
      ],
      "text/plain": [
       "     Product id                                       Product name  \\\n",
       "452  B07GPXXNNG  boAt Bassheads 100 in Ear Wired Earphones with...   \n",
       "455  B07GQD4K6L  boAt Bassheads 100 in Ear Wired Earphones with...   \n",
       "487  B01MF8MB65  boAt Bassheads 225 in Ear Wired Earphones with...   \n",
       "599  B07KY3FNQP  boAt Bassheads 152 in Ear Wired Earphones with...   \n",
       "601  B08MTLLSL8  boAt Bassheads 102 Wired in Ear Earphones with...   \n",
       "648  B07S9S86BF  boAt Bassheads 242 in Ear Wired Earphones with...   \n",
       "649  B08H9Z3XQW  boAt Bassheads 242 in Ear Wired Earphones with...   \n",
       "\n",
       "                                              Category  Discounted price  \\\n",
       "452  Electronics|Headphones,Earbuds&Accessories|Hea...               349   \n",
       "455  Electronics|Headphones,Earbuds&Accessories|Hea...               379   \n",
       "487  Electronics|Headphones,Earbuds&Accessories|Hea...               699   \n",
       "599  Electronics|Headphones,Earbuds&Accessories|Hea...               449   \n",
       "601  Electronics|Headphones,Earbuds&Accessories|Hea...               399   \n",
       "648  Electronics|Headphones,Earbuds&Accessories|Hea...               599   \n",
       "649  Electronics|Headphones,Earbuds&Accessories|Hea...               455   \n",
       "\n",
       "     Actual price  Discount percentage  Rating Rating count  \\\n",
       "452           999                 65.0     4.1     3,63,713   \n",
       "455           999                 62.0     4.1     3,63,713   \n",
       "487           999                 30.0     4.1     2,73,189   \n",
       "599          1290                 65.0     4.1       91,770   \n",
       "601          1290                 69.0     4.2       76,042   \n",
       "648          1490                 60.0     4.1     1,61,679   \n",
       "649          1490                 69.0     4.1     1,61,677   \n",
       "\n",
       "                                         About product  \n",
       "452  The perfect way to add some style and stand ou...  \n",
       "455  The perfect way to add some style and stand ou...  \n",
       "487  Has a PVC cable which is durable and tangle fr...  \n",
       "599  Break away from old habits through HD sound vi...  \n",
       "601  Let go off all your troubles and sink into the...  \n",
       "648  Fly into your workouts with precise tones that...  \n",
       "649  Fly into your workouts with precise tones that...  "
      ]
     },
     "execution_count": 282,
     "metadata": {},
     "output_type": "execute_result"
    }
   ],
   "source": [
    "df[df['Product name'].str.contains('boAt Bassheads')]"
   ]
  },
  {
   "cell_type": "raw",
   "id": "651b06e9-a29b-4f3d-8020-36a467b39cd7",
   "metadata": {},
   "source": []
  },
  {
   "cell_type": "raw",
   "id": "1a3d69da-ece2-4ba3-96bd-88a4d8496b68",
   "metadata": {},
   "source": [
    "Televisions with 60% and above discount"
   ]
  },
  {
   "cell_type": "code",
   "execution_count": 99,
   "id": "494dec55-e1bb-49ca-ae36-c8fdc27e1685",
   "metadata": {},
   "outputs": [
    {
     "data": {
      "text/html": [
       "<div>\n",
       "<style scoped>\n",
       "    .dataframe tbody tr th:only-of-type {\n",
       "        vertical-align: middle;\n",
       "    }\n",
       "\n",
       "    .dataframe tbody tr th {\n",
       "        vertical-align: top;\n",
       "    }\n",
       "\n",
       "    .dataframe thead th {\n",
       "        text-align: right;\n",
       "    }\n",
       "</style>\n",
       "<table border=\"1\" class=\"dataframe\">\n",
       "  <thead>\n",
       "    <tr style=\"text-align: right;\">\n",
       "      <th></th>\n",
       "      <th>Product name</th>\n",
       "      <th>Category</th>\n",
       "      <th>Discounted price</th>\n",
       "      <th>Actual price</th>\n",
       "      <th>Discount percentage</th>\n",
       "      <th>Rating</th>\n",
       "      <th>Rating count</th>\n",
       "      <th>About product</th>\n",
       "    </tr>\n",
       "    <tr>\n",
       "      <th>Product id</th>\n",
       "      <th></th>\n",
       "      <th></th>\n",
       "      <th></th>\n",
       "      <th></th>\n",
       "      <th></th>\n",
       "      <th></th>\n",
       "      <th></th>\n",
       "      <th></th>\n",
       "    </tr>\n",
       "  </thead>\n",
       "  <tbody>\n",
       "    <tr>\n",
       "      <th>B08QX1CC14</th>\n",
       "      <td>SKYWALL 81.28 cm (32 inches) HD Ready Smart LE...</td>\n",
       "      <td>Electronics|HomeTheater,TV&amp;Video|Televisions|S...</td>\n",
       "      <td>7299</td>\n",
       "      <td>19125</td>\n",
       "      <td>62.0</td>\n",
       "      <td>3.4</td>\n",
       "      <td>902</td>\n",
       "      <td>Resolution: Full HD (1920 x 1080) | Refresh Ra...</td>\n",
       "    </tr>\n",
       "    <tr>\n",
       "      <th>B09F6VHQXB</th>\n",
       "      <td>Croma 80 cm (32 Inches) HD Ready LED TV (CREL7...</td>\n",
       "      <td>Electronics|HomeTheater,TV&amp;Video|Televisions|S...</td>\n",
       "      <td>7390</td>\n",
       "      <td>20000</td>\n",
       "      <td>63.0</td>\n",
       "      <td>4.1</td>\n",
       "      <td>2581</td>\n",
       "      <td>Resolution: HD Ready (1366 x 768p) | Refresh R...</td>\n",
       "    </tr>\n",
       "    <tr>\n",
       "      <th>B09X1M3DHX</th>\n",
       "      <td>iFFALCON 80 cm (32 inches) HD Ready Smart LED ...</td>\n",
       "      <td>Electronics|HomeTheater,TV&amp;Video|Televisions|S...</td>\n",
       "      <td>9999</td>\n",
       "      <td>27990</td>\n",
       "      <td>64.0</td>\n",
       "      <td>4.2</td>\n",
       "      <td>1269</td>\n",
       "      <td>Resolution: HD Ready (1366 x 768) | Refresh Ra...</td>\n",
       "    </tr>\n",
       "    <tr>\n",
       "      <th>B09ZPM4C2C</th>\n",
       "      <td>TCL 80 cm (32 inches) HD Ready Certified Andro...</td>\n",
       "      <td>Electronics|HomeTheater,TV&amp;Video|Televisions|S...</td>\n",
       "      <td>10901</td>\n",
       "      <td>30990</td>\n",
       "      <td>65.0</td>\n",
       "      <td>4.1</td>\n",
       "      <td>398</td>\n",
       "      <td>Resolution: HD Ready (1366 x 768) | Refresh Ra...</td>\n",
       "    </tr>\n",
       "    <tr>\n",
       "      <th>B09ZPJT8B2</th>\n",
       "      <td>TCL 80 cm (32 inches) HD Ready Certified Andro...</td>\n",
       "      <td>Electronics|HomeTheater,TV&amp;Video|Televisions|S...</td>\n",
       "      <td>11990</td>\n",
       "      <td>31990</td>\n",
       "      <td>63.0</td>\n",
       "      <td>4.2</td>\n",
       "      <td>64</td>\n",
       "      <td>Resolution: HD Ready (1366 x 768) | Refresh Ra...</td>\n",
       "    </tr>\n",
       "  </tbody>\n",
       "</table>\n",
       "</div>"
      ],
      "text/plain": [
       "                                                 Product name  \\\n",
       "Product id                                                      \n",
       "B08QX1CC14  SKYWALL 81.28 cm (32 inches) HD Ready Smart LE...   \n",
       "B09F6VHQXB  Croma 80 cm (32 Inches) HD Ready LED TV (CREL7...   \n",
       "B09X1M3DHX  iFFALCON 80 cm (32 inches) HD Ready Smart LED ...   \n",
       "B09ZPM4C2C  TCL 80 cm (32 inches) HD Ready Certified Andro...   \n",
       "B09ZPJT8B2  TCL 80 cm (32 inches) HD Ready Certified Andro...   \n",
       "\n",
       "                                                     Category  \\\n",
       "Product id                                                      \n",
       "B08QX1CC14  Electronics|HomeTheater,TV&Video|Televisions|S...   \n",
       "B09F6VHQXB  Electronics|HomeTheater,TV&Video|Televisions|S...   \n",
       "B09X1M3DHX  Electronics|HomeTheater,TV&Video|Televisions|S...   \n",
       "B09ZPM4C2C  Electronics|HomeTheater,TV&Video|Televisions|S...   \n",
       "B09ZPJT8B2  Electronics|HomeTheater,TV&Video|Televisions|S...   \n",
       "\n",
       "            Discounted price  Actual price  Discount percentage  Rating  \\\n",
       "Product id                                                                \n",
       "B08QX1CC14              7299         19125                 62.0     3.4   \n",
       "B09F6VHQXB              7390         20000                 63.0     4.1   \n",
       "B09X1M3DHX              9999         27990                 64.0     4.2   \n",
       "B09ZPM4C2C             10901         30990                 65.0     4.1   \n",
       "B09ZPJT8B2             11990         31990                 63.0     4.2   \n",
       "\n",
       "           Rating count                                      About product  \n",
       "Product id                                                                  \n",
       "B08QX1CC14          902  Resolution: Full HD (1920 x 1080) | Refresh Ra...  \n",
       "B09F6VHQXB         2581  Resolution: HD Ready (1366 x 768p) | Refresh R...  \n",
       "B09X1M3DHX         1269  Resolution: HD Ready (1366 x 768) | Refresh Ra...  \n",
       "B09ZPM4C2C          398  Resolution: HD Ready (1366 x 768) | Refresh Ra...  \n",
       "B09ZPJT8B2           64  Resolution: HD Ready (1366 x 768) | Refresh Ra...  "
      ]
     },
     "execution_count": 99,
     "metadata": {},
     "output_type": "execute_result"
    }
   ],
   "source": [
    "df2 = df[df['Category'].str.contains('Televisions')]\n",
    "df2[df2['Discount percentage'] >= 60.0]"
   ]
  },
  {
   "cell_type": "raw",
   "id": "fb491b5a-75d8-4468-8fd7-7f82274df863",
   "metadata": {},
   "source": []
  },
  {
   "cell_type": "markdown",
   "id": "e39612ae-324c-4d9a-8241-e5aeac69dcf0",
   "metadata": {},
   "source": [
    "# Data Visulization"
   ]
  },
  {
   "cell_type": "raw",
   "id": "db6f49a5-fe7d-48ed-9c28-ecd9dbb3e2ef",
   "metadata": {},
   "source": [
    "Line Plot"
   ]
  },
  {
   "cell_type": "code",
   "execution_count": 464,
   "id": "167d43bc-b29d-4f3f-9f37-7faf5dbda429",
   "metadata": {},
   "outputs": [
    {
     "data": {
      "text/plain": [
       "<Axes: title={'center': 'Costomer ratings by Average discount percentage'}, xlabel='Customer Ratings', ylabel='Discount percentage'>"
      ]
     },
     "execution_count": 464,
     "metadata": {},
     "output_type": "execute_result"
    },
    {
     "data": {
      "image/png": "[encoded data removed]",
      "text/plain": [
       "<Figure size 720x400 with 1 Axes>"
      ]
     },
     "metadata": {},
     "output_type": "display_data"
    }
   ],
   "source": [
    "Avg_dis = df.groupby('Rating')['Discount percentage'].mean()\n",
    "Avg_dis.plot(kind = 'line', figsize = (9,5), xlabel = 'Customer Ratings', ylabel = 'Discount percentage', title = 'Costomer ratings by Average discount percentage', grid =True)"
   ]
  },
  {
   "cell_type": "raw",
   "id": "72acf46e-8823-49cf-8e32-5c107352d615",
   "metadata": {},
   "source": [
    "The line plot shows that customer ratings appear to be droped with very high discounts. At around 80% discount, ratings are lower with averaging 2.5. Whereas, products with a 70% discount have higher ratings of 5 stars.\n",
    "\n",
    "This suggests that moderate discounts are seen favorable by customers, while very high discount may raise conserns about product quality."
   ]
  },
  {
   "cell_type": "raw",
   "id": "e24fa95e-0622-4428-96bb-5c99fcf48264",
   "metadata": {},
   "source": []
  },
  {
   "cell_type": "raw",
   "id": "9afc0e95-f03f-4f06-96b9-6b9dca267049",
   "metadata": {},
   "source": [
    "Bar Plot"
   ]
  },
  {
   "cell_type": "code",
   "execution_count": 398,
   "id": "4135e372-2a28-4529-aa8a-8bc54ff16ccf",
   "metadata": {
    "scrolled": true
   },
   "outputs": [
    {
     "data": {
      "text/plain": [
       "<Axes: title={'center': 'Products with top discount'}, xlabel='Products', ylabel='Top discount percentage'>"
      ]
     },
     "execution_count": 398,
     "metadata": {},
     "output_type": "execute_result"
    },
    {
     "data": {
      "image/png": "[encoded data removed]",
      "text/plain": [
       "<Figure size 960x400 with 1 Axes>"
      ]
     },
     "metadata": {},
     "output_type": "display_data"
    }
   ],
   "source": [
    "Top = df.sort_values(by = 'Discount percentage', ascending = False).head(10)\n",
    "Top_dis = Top.groupby('Product id')['Discount percentage'].mean()\n",
    "Top_dis.plot(kind = 'bar', figsize = (12,5), ylim=(80,100), xlabel = 'Products', ylabel = 'Top discount percentage', title = 'Products with top discount', color = 'green')"
   ]
  },
  {
   "cell_type": "code",
   "execution_count": 399,
   "id": "d15dc26d-c7f4-44d8-b5fc-5302bdf770cf",
   "metadata": {
    "scrolled": true
   },
   "outputs": [
    {
     "data": {
      "text/html": [
       "<div>\n",
       "<style scoped>\n",
       "    .dataframe tbody tr th:only-of-type {\n",
       "        vertical-align: middle;\n",
       "    }\n",
       "\n",
       "    .dataframe tbody tr th {\n",
       "        vertical-align: top;\n",
       "    }\n",
       "\n",
       "    .dataframe thead th {\n",
       "        text-align: right;\n",
       "    }\n",
       "</style>\n",
       "<table border=\"1\" class=\"dataframe\">\n",
       "  <thead>\n",
       "    <tr style=\"text-align: right;\">\n",
       "      <th></th>\n",
       "      <th>Product id</th>\n",
       "      <th>Product name</th>\n",
       "      <th>Category</th>\n",
       "      <th>Discounted price</th>\n",
       "      <th>Actual price</th>\n",
       "      <th>Discount percentage</th>\n",
       "      <th>Rating</th>\n",
       "      <th>Rating count</th>\n",
       "      <th>About product</th>\n",
       "    </tr>\n",
       "  </thead>\n",
       "  <tbody>\n",
       "    <tr>\n",
       "      <th>1135</th>\n",
       "      <td>B097C564GC</td>\n",
       "      <td>rts [2 Pack] Mini USB C Type C Adapter Plug, T...</td>\n",
       "      <td>Computers&amp;Accessories|Accessories&amp;Peripherals|...</td>\n",
       "      <td>294</td>\n",
       "      <td>4999</td>\n",
       "      <td>94.0</td>\n",
       "      <td>4.3</td>\n",
       "      <td>4,426</td>\n",
       "      <td>【WIDER COMPATIBILITY】This USB C Female to USB ...</td>\n",
       "    </tr>\n",
       "  </tbody>\n",
       "</table>\n",
       "</div>"
      ],
      "text/plain": [
       "      Product id                                       Product name  \\\n",
       "1135  B097C564GC  rts [2 Pack] Mini USB C Type C Adapter Plug, T...   \n",
       "\n",
       "                                               Category  Discounted price  \\\n",
       "1135  Computers&Accessories|Accessories&Peripherals|...               294   \n",
       "\n",
       "      Actual price  Discount percentage  Rating Rating count  \\\n",
       "1135          4999                 94.0     4.3        4,426   \n",
       "\n",
       "                                          About product  \n",
       "1135  【WIDER COMPATIBILITY】This USB C Female to USB ...  "
      ]
     },
     "execution_count": 399,
     "metadata": {},
     "output_type": "execute_result"
    }
   ],
   "source": [
    "df[df['Product id'].str.contains('B097C564GC')]"
   ]
  },
  {
   "cell_type": "raw",
   "id": "ee651ed4-a353-4bf8-920b-c9146d2cfe98",
   "metadata": {},
   "source": [
    "The bar chart shows the products with the highest discount. There is one product with largest discount around 94%, standing out clearly. Other top products have discounts close to 90%. The taller bar representing bigger discounts, this helps quickly spot the best deals."
   ]
  },
  {
   "cell_type": "raw",
   "id": "e884d41f-4734-40ea-9b9e-dddd5fe9c91c",
   "metadata": {},
   "source": []
  },
  {
   "cell_type": "raw",
   "id": "72601b89-2201-4c00-bd8c-5fddfbec50f8",
   "metadata": {},
   "source": [
    "Histogram Plot"
   ]
  },
  {
   "cell_type": "code",
   "execution_count": 455,
   "id": "4e45a9dc-b96e-4f06-959e-a8822bd6b8bc",
   "metadata": {},
   "outputs": [
    {
     "data": {
      "text/plain": [
       "<Axes: title={'center': 'Distribution of Costomer Ratings'}, xlabel='Costomer Ratings', ylabel='No. of Costomer'>"
      ]
     },
     "execution_count": 455,
     "metadata": {},
     "output_type": "execute_result"
    },
    {
     "data": {
      "image/png": "[encoded data removed]",
      "text/plain": [
       "<Figure size 800x400 with 1 Axes>"
      ]
     },
     "metadata": {},
     "output_type": "display_data"
    }
   ],
   "source": [
    "df['Rating'].plot.hist(bins=10, color = 'purple', figsize = (10,5), ylabel = 'No. of Costomer', xlabel = 'Costomer Ratings', title = 'Distribution of Costomer Ratings')"
   ]
  },
  {
   "cell_type": "raw",
   "id": "05bba64e-1d44-43b7-8839-2408dbb82d7d",
   "metadata": {},
   "source": [
    "The histogram shhows the distribution of customer ratings. Around 1000 customers gave ratings between 4 to 4.5 stars, making it the most common range. Whereas, fewer than 200 customeres gave a 5-star rating, showing that perfect scores were less frequent. This help identify the most typical customer rating range."
   ]
  },
  {
   "cell_type": "raw",
   "id": "63fc8531-5663-47e5-ac0c-bda696c11a48",
   "metadata": {},
   "source": []
  },
  {
   "cell_type": "raw",
   "id": "013fba31-1bf2-4866-af9f-211b4676a970",
   "metadata": {},
   "source": [
    "Boxplot "
   ]
  },
  {
   "cell_type": "code",
   "execution_count": 470,
   "id": "1dab1eb8-a081-430d-867c-f82dc5ca04c1",
   "metadata": {},
   "outputs": [
    {
     "data": {
      "text/plain": [
       "<Axes: >"
      ]
     },
     "execution_count": 470,
     "metadata": {},
     "output_type": "execute_result"
    },
    {
     "data": {
      "image/png": "[encoded data removed]",
      "text/plain": [
       "<Figure size 1120x560 with 1 Axes>"
      ]
     },
     "metadata": {},
     "output_type": "display_data"
    }
   ],
   "source": [
    "df.boxplot(column='Discount percentage', patch_artist=True, figsize = (14,7), color = 'red')"
   ]
  },
  {
   "cell_type": "raw",
   "id": "eb5084a1-ece0-4401-91a8-d663d75fd2e6",
   "metadata": {},
   "source": [
    "The box plot shows that the discount percentage mostly range between 30% to 60%. This is where the bulk of the discounts lie, as inducated by the box."
   ]
  },
  {
   "cell_type": "raw",
   "id": "a5d1b8fd-dd25-4eae-971c-f561c7b05b8a",
   "metadata": {},
   "source": []
  },
  {
   "cell_type": "raw",
   "id": "2ad84b91-333c-4d6a-8b14-d89e1993fdea",
   "metadata": {},
   "source": [
    "Scatter Plot"
   ]
  },
  {
   "cell_type": "code",
   "execution_count": 474,
   "id": "e9186785-6ce6-4444-9ab1-49609b4e1c6a",
   "metadata": {},
   "outputs": [
    {
     "data": {
      "text/plain": [
       "<Axes: title={'center': 'Costumers ratings by product price'}, xlabel='Rating', ylabel='Actual price'>"
      ]
     },
     "execution_count": 474,
     "metadata": {},
     "output_type": "execute_result"
    },
    {
     "data": {
      "image/png": "[encoded data removed]",
      "text/plain": [
       "<Figure size 960x480 with 1 Axes>"
      ]
     },
     "metadata": {},
     "output_type": "display_data"
    }
   ],
   "source": [
    "df.plot(kind = 'scatter', x = 'Rating', y = 'Actual price', grid = True, title = 'Costumers ratings by product price', ylim = (0,100000), figsize = (12,6))"
   ]
  },
  {
   "cell_type": "raw",
   "id": "17d60578-47e3-4806-aa98-fe07f42c2851",
   "metadata": {},
   "source": [
    "The scatter plot shows customer ratings by actual product price. Most ratings are clustured around products priced between 0 - 20,000. As the price increases toward 100,000, the number of ratings drops, indicating that higher-priced products tend to receive fewer ratings."
   ]
  },
  {
   "cell_type": "raw",
   "id": "30ac5b1f-6cf0-4dbc-900f-51e6d73f40c4",
   "metadata": {},
   "source": []
  },
  {
   "cell_type": "raw",
   "id": "b61274a8-39f5-4dcc-91c6-cff9afadc8d8",
   "metadata": {},
   "source": [
    "Pie Chart"
   ]
  },
  {
   "cell_type": "code",
   "execution_count": 467,
   "id": "f957c064-61d1-4449-8c09-aaf115699700",
   "metadata": {},
   "outputs": [
    {
     "data": {
      "image/png": "[encoded data removed]",
      "text/plain": [
       "<Figure size 640x440 with 1 Axes>"
      ]
     },
     "metadata": {},
     "output_type": "display_data"
    }
   ],
   "source": [
    "top_rate = df[df['Rating'] > 4]\n",
    "count = top_rate['Category'].value_counts().head()\n",
    "plt.pie(count, labels = count.index, autopct='%1.1f%%')\n",
    "plt.title =  'Top-Rated Products by Category'"
   ]
  },
  {
   "cell_type": "raw",
   "id": "a61f5c7b-87c2-4d38-a4d5-aa6e56e54e92",
   "metadata": {},
   "source": [
    "The pie chart displays customer ratings above 4 stars by category. The largest portion is taken up by the cables category, indicating it as a highly-rated products. The remaining portion represents television, smarphones, and smartwaches."
   ]
  }
 ],
 "metadata": {
  "kernelspec": {
   "display_name": "Python 3 (ipykernel)",
   "language": "python",
   "name": "python3"
  },
  "language_info": {
   "codemirror_mode": {
    "name": "ipython",
    "version": 3
   },
   "file_extension": ".py",
   "mimetype": "text/x-python",
   "name": "python",
   "nbconvert_exporter": "python",
   "pygments_lexer": "ipython3",
   "version": "3.10.6"
  }
 },
 "nbformat": 4,
 "nbformat_minor": 5
}
